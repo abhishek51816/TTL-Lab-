{
 "cells": [
  {
   "cell_type": "markdown",
   "id": "565be19b",
   "metadata": {},
   "source": [
    "## BASIC CONCEPTS"
   ]
  },
  {
   "cell_type": "markdown",
   "id": "cc13891a",
   "metadata": {},
   "source": [
    "### BASIC MATH"
   ]
  },
  {
   "cell_type": "code",
   "execution_count": 1,
   "id": "81d3e4d1",
   "metadata": {},
   "outputs": [
    {
     "name": "stdout",
     "output_type": "stream",
     "text": [
      "10 3\n"
     ]
    }
   ],
   "source": [
    "a = 10\n",
    "b = 3\n",
    "print(f'{a} {b}')"
   ]
  },
  {
   "cell_type": "code",
   "execution_count": 2,
   "id": "d6bd750d",
   "metadata": {},
   "outputs": [
    {
     "name": "stdout",
     "output_type": "stream",
     "text": [
      "Value of a is 10 and value of b is 3\n",
      "Value of a+b is 13\n",
      "Value of a-b is 7\n",
      "Value of a*b is 30\n",
      "Value of a/b is 3.3333333333333335\n",
      "Value of a//b is 3\n",
      "Value of a%b is 1\n"
     ]
    }
   ],
   "source": [
    "print(f'Value of a is {a} and value of b is {b}')\n",
    "print(f'Value of a+b is {a+b}')\n",
    "print(f'Value of a-b is {a-b}')\n",
    "print(f'Value of a*b is {a*b}')\n",
    "print(f'Value of a/b is {a/b}')\n",
    "print(f'Value of a//b is {a//b}')\n",
    "print(f'Value of a%b is {a%b}')"
   ]
  },
  {
   "cell_type": "markdown",
   "id": "04853f43",
   "metadata": {},
   "source": [
    "## String Manipulation"
   ]
  },
  {
   "cell_type": "code",
   "execution_count": 3,
   "id": "7904b772",
   "metadata": {
    "scrolled": true
   },
   "outputs": [
    {
     "name": "stdout",
     "output_type": "stream",
     "text": [
      "The string is Hello World\n",
      "String Slicing\n",
      "First 5 characters of the string is Hello\n",
      "Last 5 characters of the string is World\n",
      "Characters from 3rd to 5th position is llo\n"
     ]
    }
   ],
   "source": [
    "str = 'Hello World'\n",
    "print(f'The string is {str}')\n",
    "print(f'String Slicing')\n",
    "print(f'First 5 characters of the string is {str[:5]}')\n",
    "print(f'Last 5 characters of the string is {str[-5:]}')\n",
    "print(f'Characters from 3rd to 5th position is {str[2:5]}')"
   ]
  },
  {
   "cell_type": "markdown",
   "id": "fbd8363d",
   "metadata": {},
   "source": [
    "## FUNCTION"
   ]
  },
  {
   "cell_type": "code",
   "execution_count": 4,
   "id": "264ecb01",
   "metadata": {},
   "outputs": [
    {
     "name": "stdout",
     "output_type": "stream",
     "text": [
      "1 2\n",
      "Addition of 1 and 2 is 3\n"
     ]
    }
   ],
   "source": [
    "a, b = input().split(' ')\n",
    "def add(a, b):\n",
    "    return int(a) + int(b)\n",
    "\n",
    "print(f'Addition of {a} and {b} is {add(a, b)}')"
   ]
  },
  {
   "cell_type": "markdown",
   "id": "e93e0369",
   "metadata": {},
   "source": [
    "## LOOP"
   ]
  },
  {
   "cell_type": "markdown",
   "id": "97552b58",
   "metadata": {},
   "source": [
    "### for loop"
   ]
  },
  {
   "cell_type": "code",
   "execution_count": 5,
   "id": "101ffdf8",
   "metadata": {},
   "outputs": [
    {
     "name": "stdout",
     "output_type": "stream",
     "text": [
      "10\n",
      "Sum of first 10 natural numbers is 55\n"
     ]
    }
   ],
   "source": [
    "a = int(input())\n",
    "\n",
    "def Sn(n):\n",
    "    sum = 0\n",
    "    for num in range(1,n+1):\n",
    "        sum = sum + num\n",
    "        # print(num)\n",
    "    return sum\n",
    "\n",
    "# Sn(a)\n",
    "\n",
    "print(f'Sum of first {a} natural numbers is {Sn(a)}')"
   ]
  },
  {
   "cell_type": "markdown",
   "id": "72f3a5d3",
   "metadata": {},
   "source": [
    "## LIST"
   ]
  },
  {
   "cell_type": "code",
   "execution_count": 6,
   "id": "26e9d25e",
   "metadata": {},
   "outputs": [
    {
     "name": "stdout",
     "output_type": "stream",
     "text": [
      "<class 'list'>\n",
      "[1, 2, 3, 4]\n"
     ]
    }
   ],
   "source": [
    "a = [1,2,3,4]\n",
    "print(type(a))\n",
    "print(a)"
   ]
  },
  {
   "cell_type": "code",
   "execution_count": 7,
   "id": "e55ee1d9",
   "metadata": {},
   "outputs": [
    {
     "name": "stdout",
     "output_type": "stream",
     "text": [
      "1\n",
      "<class 'int'>\n"
     ]
    }
   ],
   "source": [
    "print(a[0])\n",
    "print(type(a[0]))"
   ]
  },
  {
   "cell_type": "markdown",
   "id": "6a77c25e",
   "metadata": {},
   "source": [
    "for n in a:\n",
    "    print(n, pow(n,2))"
   ]
  },
  {
   "cell_type": "markdown",
   "id": "25221caf",
   "metadata": {},
   "source": [
    "## APPENDING LIST"
   ]
  },
  {
   "cell_type": "code",
   "execution_count": 9,
   "id": "e986da59",
   "metadata": {},
   "outputs": [
    {
     "name": "stdout",
     "output_type": "stream",
     "text": [
      "Before editing:  [1, 2, 3, 4]\n",
      "After editing:  [1, 2, 3, 10]\n"
     ]
    }
   ],
   "source": [
    "print(\"Before editing: \", a)\n",
    "a[3] = 10\n",
    "print(\"After editing: \" ,a)"
   ]
  },
  {
   "cell_type": "code",
   "execution_count": 10,
   "id": "77f68faf",
   "metadata": {},
   "outputs": [
    {
     "name": "stdout",
     "output_type": "stream",
     "text": [
      "[1, 2, 3, 10, 'hi']\n"
     ]
    }
   ],
   "source": [
    "a.append('hi')\n",
    "print(a)"
   ]
  },
  {
   "cell_type": "code",
   "execution_count": 11,
   "id": "04f5459d",
   "metadata": {},
   "outputs": [
    {
     "name": "stdout",
     "output_type": "stream",
     "text": [
      "[1, 2, 3, 10, 'hi', [111, 'apple']]\n"
     ]
    }
   ],
   "source": [
    "a.append([111, 'apple'])\n",
    "print(a)"
   ]
  },
  {
   "cell_type": "markdown",
   "id": "b6e2e1ef",
   "metadata": {},
   "source": [
    "### USE OF HELP"
   ]
  },
  {
   "cell_type": "code",
   "execution_count": 12,
   "id": "0c5d35f8",
   "metadata": {},
   "outputs": [
    {
     "name": "stdout",
     "output_type": "stream",
     "text": [
      "Help on list object:\n",
      "\n",
      "class list(object)\n",
      " |  list(iterable=(), /)\n",
      " |  \n",
      " |  Built-in mutable sequence.\n",
      " |  \n",
      " |  If no argument is given, the constructor creates a new empty list.\n",
      " |  The argument must be an iterable if specified.\n",
      " |  \n",
      " |  Methods defined here:\n",
      " |  \n",
      " |  __add__(self, value, /)\n",
      " |      Return self+value.\n",
      " |  \n",
      " |  __contains__(self, key, /)\n",
      " |      Return key in self.\n",
      " |  \n",
      " |  __delitem__(self, key, /)\n",
      " |      Delete self[key].\n",
      " |  \n",
      " |  __eq__(self, value, /)\n",
      " |      Return self==value.\n",
      " |  \n",
      " |  __ge__(self, value, /)\n",
      " |      Return self>=value.\n",
      " |  \n",
      " |  __getattribute__(self, name, /)\n",
      " |      Return getattr(self, name).\n",
      " |  \n",
      " |  __getitem__(...)\n",
      " |      x.__getitem__(y) <==> x[y]\n",
      " |  \n",
      " |  __gt__(self, value, /)\n",
      " |      Return self>value.\n",
      " |  \n",
      " |  __iadd__(self, value, /)\n",
      " |      Implement self+=value.\n",
      " |  \n",
      " |  __imul__(self, value, /)\n",
      " |      Implement self*=value.\n",
      " |  \n",
      " |  __init__(self, /, *args, **kwargs)\n",
      " |      Initialize self.  See help(type(self)) for accurate signature.\n",
      " |  \n",
      " |  __iter__(self, /)\n",
      " |      Implement iter(self).\n",
      " |  \n",
      " |  __le__(self, value, /)\n",
      " |      Return self<=value.\n",
      " |  \n",
      " |  __len__(self, /)\n",
      " |      Return len(self).\n",
      " |  \n",
      " |  __lt__(self, value, /)\n",
      " |      Return self<value.\n",
      " |  \n",
      " |  __mul__(self, value, /)\n",
      " |      Return self*value.\n",
      " |  \n",
      " |  __ne__(self, value, /)\n",
      " |      Return self!=value.\n",
      " |  \n",
      " |  __repr__(self, /)\n",
      " |      Return repr(self).\n",
      " |  \n",
      " |  __reversed__(self, /)\n",
      " |      Return a reverse iterator over the list.\n",
      " |  \n",
      " |  __rmul__(self, value, /)\n",
      " |      Return value*self.\n",
      " |  \n",
      " |  __setitem__(self, key, value, /)\n",
      " |      Set self[key] to value.\n",
      " |  \n",
      " |  __sizeof__(self, /)\n",
      " |      Return the size of the list in memory, in bytes.\n",
      " |  \n",
      " |  append(self, object, /)\n",
      " |      Append object to the end of the list.\n",
      " |  \n",
      " |  clear(self, /)\n",
      " |      Remove all items from list.\n",
      " |  \n",
      " |  copy(self, /)\n",
      " |      Return a shallow copy of the list.\n",
      " |  \n",
      " |  count(self, value, /)\n",
      " |      Return number of occurrences of value.\n",
      " |  \n",
      " |  extend(self, iterable, /)\n",
      " |      Extend list by appending elements from the iterable.\n",
      " |  \n",
      " |  index(self, value, start=0, stop=9223372036854775807, /)\n",
      " |      Return first index of value.\n",
      " |      \n",
      " |      Raises ValueError if the value is not present.\n",
      " |  \n",
      " |  insert(self, index, object, /)\n",
      " |      Insert object before index.\n",
      " |  \n",
      " |  pop(self, index=-1, /)\n",
      " |      Remove and return item at index (default last).\n",
      " |      \n",
      " |      Raises IndexError if list is empty or index is out of range.\n",
      " |  \n",
      " |  remove(self, value, /)\n",
      " |      Remove first occurrence of value.\n",
      " |      \n",
      " |      Raises ValueError if the value is not present.\n",
      " |  \n",
      " |  reverse(self, /)\n",
      " |      Reverse *IN PLACE*.\n",
      " |  \n",
      " |  sort(self, /, *, key=None, reverse=False)\n",
      " |      Sort the list in ascending order and return None.\n",
      " |      \n",
      " |      The sort is in-place (i.e. the list itself is modified) and stable (i.e. the\n",
      " |      order of two equal elements is maintained).\n",
      " |      \n",
      " |      If a key function is given, apply it once to each list item and sort them,\n",
      " |      ascending or descending, according to their function values.\n",
      " |      \n",
      " |      The reverse flag can be set to sort in descending order.\n",
      " |  \n",
      " |  ----------------------------------------------------------------------\n",
      " |  Class methods defined here:\n",
      " |  \n",
      " |  __class_getitem__(...) from builtins.type\n",
      " |      See PEP 585\n",
      " |  \n",
      " |  ----------------------------------------------------------------------\n",
      " |  Static methods defined here:\n",
      " |  \n",
      " |  __new__(*args, **kwargs) from builtins.type\n",
      " |      Create and return a new object.  See help(type) for accurate signature.\n",
      " |  \n",
      " |  ----------------------------------------------------------------------\n",
      " |  Data and other attributes defined here:\n",
      " |  \n",
      " |  __hash__ = None\n",
      "\n"
     ]
    }
   ],
   "source": [
    "help(a)"
   ]
  },
  {
   "cell_type": "markdown",
   "id": "ff321f4e",
   "metadata": {},
   "source": [
    "## TUPLE"
   ]
  },
  {
   "cell_type": "code",
   "execution_count": 13,
   "id": "10165163",
   "metadata": {},
   "outputs": [
    {
     "name": "stdout",
     "output_type": "stream",
     "text": [
      "<class 'tuple'>\n",
      "(1, 2, 3, 4)\n"
     ]
    }
   ],
   "source": [
    "b = (1,2,3,4)\n",
    "print(type(b))\n",
    "print(b)"
   ]
  },
  {
   "cell_type": "markdown",
   "id": "274391b5",
   "metadata": {},
   "source": [
    "## DICTIONARY"
   ]
  },
  {
   "cell_type": "code",
   "execution_count": 19,
   "id": "4a0502e4",
   "metadata": {},
   "outputs": [
    {
     "name": "stdout",
     "output_type": "stream",
     "text": [
      "<class 'dict'>\n",
      "{'Name': 'Person-1', 'Age': 22, 'Gender': 'M', 'Status': 'Dead'}\n"
     ]
    }
   ],
   "source": [
    "c = {\n",
    "    'Name' : 'Person-1',\n",
    "    'Age' : 22,\n",
    "    'Gender' : 'M',\n",
    "    'Status' : 'Dead'\n",
    "}\n",
    "print(type(c))\n",
    "print(c)"
   ]
  },
  {
   "cell_type": "code",
   "execution_count": 17,
   "id": "e9a48f30",
   "metadata": {},
   "outputs": [
    {
     "name": "stdout",
     "output_type": "stream",
     "text": [
      "Dead\n"
     ]
    }
   ],
   "source": [
    "print(c['Status'])"
   ]
  },
  {
   "cell_type": "code",
   "execution_count": 20,
   "id": "179fce74",
   "metadata": {},
   "outputs": [
    {
     "name": "stdout",
     "output_type": "stream",
     "text": [
      "Name \t-> Person-1\n",
      "Age \t-> 22\n",
      "Gender \t-> M\n",
      "Status \t-> Dead\n"
     ]
    }
   ],
   "source": [
    "for key in c:\n",
    "    print(key, '\\t->', c[key])"
   ]
  },
  {
   "cell_type": "code",
   "execution_count": 21,
   "id": "ce32bf41",
   "metadata": {},
   "outputs": [
    {
     "name": "stdout",
     "output_type": "stream",
     "text": [
      "True\n",
      "False\n"
     ]
    }
   ],
   "source": [
    "print('Status' in c)\n",
    "print('Hobbies' in c)"
   ]
  },
  {
   "cell_type": "code",
   "execution_count": 22,
   "id": "d804b2ff",
   "metadata": {},
   "outputs": [
    {
     "name": "stdout",
     "output_type": "stream",
     "text": [
      "<class 'dict'>\n",
      "{'a': 2, 'b': 3}\n"
     ]
    }
   ],
   "source": [
    "d = {'a' : 1, 'a' : 2, 'b' : 3}\n",
    "print(type(d))\n",
    "print(d)"
   ]
  },
  {
   "cell_type": "markdown",
   "id": "1a23bb82",
   "metadata": {},
   "source": [
    "## OBJECT ORIENTED PROGRAMMING"
   ]
  },
  {
   "cell_type": "code",
   "execution_count": 23,
   "id": "f92c49e4",
   "metadata": {},
   "outputs": [],
   "source": [
    "class Student:\n",
    "    def __init__(self, name):\n",
    "        self.name = name\n",
    "        self.marks = {}\n",
    "    def addMarks(self, subject, marks):\n",
    "        self.marks.update({subject : marks})\n",
    "    def printTotal(self):\n",
    "        total = 0\n",
    "        maximum = 0\n",
    "        for key in self.marks:\n",
    "            total += self.marks[key]\n",
    "            maximum += 100\n",
    "        print(self.name, 'got', total, 'marks', 'out of', maximum)"
   ]
  },
  {
   "cell_type": "code",
   "execution_count": 24,
   "id": "671c3742",
   "metadata": {},
   "outputs": [
    {
     "name": "stdout",
     "output_type": "stream",
     "text": [
      "Person-1 got 190 marks out of 200\n"
     ]
    }
   ],
   "source": [
    "s1 = Student('Person-1')\n",
    "s1.addMarks('Math', 100)\n",
    "s1.addMarks('Science', 90)\n",
    "s1.printTotal()"
   ]
  },
  {
   "cell_type": "markdown",
   "id": "a09c9e09",
   "metadata": {},
   "source": [
    "## CLASS"
   ]
  },
  {
   "cell_type": "code",
   "execution_count": 25,
   "id": "b46ab93f",
   "metadata": {},
   "outputs": [],
   "source": [
    "class Student:\n",
    "    def __init__(self, name):\n",
    "        self.name = name\n",
    "        self.marks = {}\n",
    "    def addMarks(self, subject, marks):\n",
    "        self.marks.update({subject : marks})\n",
    "    def printTotal(self):\n",
    "        total = 0\n",
    "        maximum = 0\n",
    "        for key in self.marks:\n",
    "            total += self.marks[key]\n",
    "            maximum += 100\n",
    "        print(self.name, 'got', total, 'marks', 'out of', maximum)"
   ]
  },
  {
   "cell_type": "code",
   "execution_count": 26,
   "id": "49c7af74",
   "metadata": {},
   "outputs": [
    {
     "name": "stdout",
     "output_type": "stream",
     "text": [
      "Person-1 got 190 marks out of 200\n"
     ]
    }
   ],
   "source": [
    "s1 = Student('Person-1')\n",
    "s1.addMarks('Math', 100)\n",
    "s1.addMarks('Science', 90)\n",
    "s1.printTotal()"
   ]
  },
  {
   "cell_type": "markdown",
   "id": "f9f9058e",
   "metadata": {},
   "source": [
    "## ABSTRACTION"
   ]
  },
  {
   "cell_type": "markdown",
   "id": "44ad1fda",
   "metadata": {},
   "source": [
    "class Pet:\n",
    "    def __init__(self, name, kind):\n",
    "        self.name = name\n",
    "        self.kind = kind\n",
    "    \n",
    "    def greet(self):\n",
    "        print('Hello, I am', self.name, 'and I am a', self.kind)\n",
    "    def describe(self):\n",
    "        print(self.name, 'is a', self.kind)\n",
    "\n",
    "class Parrot(Pet):\n",
    "    def __init__(self, name):\n",
    "        Pet.__init__(self, name, 'Parrot')\n",
    "        \n",
    "    def greet(self):\n",
    "        print(\"Phew Phew!\", self.name, 'says hi!')\n",
    "\n",
    "class Dog(Pet):\n",
    "    def __init__(self, name, breed):\n",
    "        Pet.__init__(self, name, 'Dog')\n",
    "        self.breed = breed\n",
    "    def greet(self):\n",
    "        print(\"Woof Woof!\", self.name, 'says hi!')\n",
    "    \n",
    "    def describe(self):\n",
    "        print(self.name, 'is a', self.breed)\n",
    "\n",
    "class Cat(Pet):\n",
    "    def __init__(self, name,color):\n",
    "        Pet.__init__(self, name, 'Cat')\n",
    "        self.color = color\n",
    "    def greet(self):\n",
    "        print(\"Meow Meow!\", self.name, 'says hi!')\n",
    "    def isBlack(self):\n",
    "        if self.color == 'Black':\n",
    "            return True\n",
    "        else:\n",
    "            return False\n",
    "        \n",
    "p1 = Parrot('Polly')\n",
    "p2 = Dog('Rex', 'German Shepherd')\n",
    "p3 = Cat('Tom', 'Black')\n",
    "p4 = Cat('Jerry', 'White')\n",
    "\n",
    "p1.greet()\n",
    "p2.greet()\n",
    "p3.greet()\n",
    "p4.greet()\n",
    "\n",
    "\n",
    "p1.describe()\n",
    "p2.describe()\n",
    "p3.describe()"
   ]
  },
  {
   "cell_type": "markdown",
   "id": "73ee66c3",
   "metadata": {},
   "source": [
    "## FILE HANDLING"
   ]
  },
  {
   "cell_type": "markdown",
   "id": "d032c67a",
   "metadata": {},
   "source": [
    "### FILE WRITING"
   ]
  },
  {
   "cell_type": "code",
   "execution_count": 28,
   "id": "4639af60",
   "metadata": {},
   "outputs": [],
   "source": [
    "f1 = open('file1.txt', 'w')\n",
    "f1.write('Hello World!\\nThis is a new line.')\n",
    "f1.close()"
   ]
  },
  {
   "cell_type": "markdown",
   "id": "efe8ef55",
   "metadata": {},
   "source": [
    "### FILE READING"
   ]
  },
  {
   "cell_type": "code",
   "execution_count": 29,
   "id": "de806d60",
   "metadata": {},
   "outputs": [
    {
     "name": "stdout",
     "output_type": "stream",
     "text": [
      "Hello World!\n",
      "This is a new line.\n"
     ]
    }
   ],
   "source": [
    "f2 = open('file1.txt', 'r')\n",
    "print(f2.read())\n",
    "f2.close()"
   ]
  },
  {
   "cell_type": "markdown",
   "id": "799cf82d",
   "metadata": {},
   "source": [
    "### LINE BY LINE READING"
   ]
  },
  {
   "cell_type": "code",
   "execution_count": 30,
   "id": "9ed9888c",
   "metadata": {},
   "outputs": [
    {
     "name": "stdout",
     "output_type": "stream",
     "text": [
      "Hello World!\n",
      "This is a new line.\n"
     ]
    }
   ],
   "source": [
    "f3 = open('file1.txt', 'r')\n",
    "for l in f3:\n",
    "    print(l.strip())\n",
    "f3.close()"
   ]
  },
  {
   "cell_type": "markdown",
   "id": "d9006063",
   "metadata": {},
   "source": [
    "## DATABASE OPERATIONS"
   ]
  },
  {
   "cell_type": "code",
   "execution_count": 31,
   "id": "35bd7c05",
   "metadata": {},
   "outputs": [],
   "source": [
    "from pymongo import MongoClient\n",
    "client = MongoClient('10.3.20.255')\n",
    "friends = client.cs001.friends"
   ]
  },
  {
   "cell_type": "code",
   "execution_count": 33,
   "id": "21635c91",
   "metadata": {},
   "outputs": [
    {
     "ename": "ServerSelectionTimeoutError",
     "evalue": "10.3.20.255:27017: timed out, Timeout: 30s, Topology Description: <TopologyDescription id: 64022e332944de1b16e08a76, topology_type: Single, servers: [<ServerDescription ('10.3.20.255', 27017) server_type: Unknown, rtt: None, error=NetworkTimeout('10.3.20.255:27017: timed out')>]>",
     "output_type": "error",
     "traceback": [
      "\u001b[1;31m---------------------------------------------------------------------------\u001b[0m",
      "\u001b[1;31mServerSelectionTimeoutError\u001b[0m               Traceback (most recent call last)",
      "\u001b[1;32m~\\AppData\\Local\\Temp\\ipykernel_5824\\2289956041.py\u001b[0m in \u001b[0;36m<module>\u001b[1;34m\u001b[0m\n\u001b[1;32m----> 1\u001b[1;33m \u001b[0mfriends\u001b[0m\u001b[1;33m.\u001b[0m\u001b[0minsert_one\u001b[0m\u001b[1;33m(\u001b[0m\u001b[1;33m{\u001b[0m\u001b[1;34m'name'\u001b[0m\u001b[1;33m:\u001b[0m\u001b[1;34m'Person-1'\u001b[0m\u001b[1;33m,\u001b[0m\u001b[1;34m'year'\u001b[0m\u001b[1;33m:\u001b[0m\u001b[1;36m2020\u001b[0m\u001b[1;33m}\u001b[0m\u001b[1;33m)\u001b[0m\u001b[1;33m\u001b[0m\u001b[1;33m\u001b[0m\u001b[0m\n\u001b[0m\u001b[0;32m      2\u001b[0m \u001b[0mfriends\u001b[0m\u001b[1;33m.\u001b[0m\u001b[0minsert_one\u001b[0m\u001b[1;33m(\u001b[0m\u001b[1;33m{\u001b[0m\u001b[1;34m'name'\u001b[0m\u001b[1;33m:\u001b[0m\u001b[1;34m'Person-2'\u001b[0m\u001b[1;33m,\u001b[0m\u001b[1;34m'year'\u001b[0m\u001b[1;33m:\u001b[0m\u001b[1;36m2021\u001b[0m\u001b[1;33m}\u001b[0m\u001b[1;33m)\u001b[0m\u001b[1;33m\u001b[0m\u001b[1;33m\u001b[0m\u001b[0m\n\u001b[0;32m      3\u001b[0m \u001b[0mfriends\u001b[0m\u001b[1;33m.\u001b[0m\u001b[0minsert_one\u001b[0m\u001b[1;33m(\u001b[0m\u001b[1;33m{\u001b[0m\u001b[1;34m'name'\u001b[0m\u001b[1;33m:\u001b[0m\u001b[1;34m'Person-3'\u001b[0m\u001b[1;33m,\u001b[0m\u001b[1;34m'year'\u001b[0m\u001b[1;33m:\u001b[0m\u001b[1;36m2022\u001b[0m\u001b[1;33m}\u001b[0m\u001b[1;33m)\u001b[0m\u001b[1;33m\u001b[0m\u001b[1;33m\u001b[0m\u001b[0m\n",
      "\u001b[1;32m~\\anaconda3\\lib\\site-packages\\pymongo\\collection.py\u001b[0m in \u001b[0;36minsert_one\u001b[1;34m(self, document, bypass_document_validation, session)\u001b[0m\n\u001b[0;32m    703\u001b[0m         \u001b[0mwrite_concern\u001b[0m \u001b[1;33m=\u001b[0m \u001b[0mself\u001b[0m\u001b[1;33m.\u001b[0m\u001b[0m_write_concern_for\u001b[0m\u001b[1;33m(\u001b[0m\u001b[0msession\u001b[0m\u001b[1;33m)\u001b[0m\u001b[1;33m\u001b[0m\u001b[1;33m\u001b[0m\u001b[0m\n\u001b[0;32m    704\u001b[0m         return InsertOneResult(\n\u001b[1;32m--> 705\u001b[1;33m             self._insert(document,\n\u001b[0m\u001b[0;32m    706\u001b[0m                          \u001b[0mwrite_concern\u001b[0m\u001b[1;33m=\u001b[0m\u001b[0mwrite_concern\u001b[0m\u001b[1;33m,\u001b[0m\u001b[1;33m\u001b[0m\u001b[1;33m\u001b[0m\u001b[0m\n\u001b[0;32m    707\u001b[0m                          \u001b[0mbypass_doc_val\u001b[0m\u001b[1;33m=\u001b[0m\u001b[0mbypass_document_validation\u001b[0m\u001b[1;33m,\u001b[0m\u001b[1;33m\u001b[0m\u001b[1;33m\u001b[0m\u001b[0m\n",
      "\u001b[1;32m~\\anaconda3\\lib\\site-packages\\pymongo\\collection.py\u001b[0m in \u001b[0;36m_insert\u001b[1;34m(self, docs, ordered, check_keys, manipulate, write_concern, op_id, bypass_doc_val, session)\u001b[0m\n\u001b[0;32m    618\u001b[0m         \u001b[1;34m\"\"\"Internal insert helper.\"\"\"\u001b[0m\u001b[1;33m\u001b[0m\u001b[1;33m\u001b[0m\u001b[0m\n\u001b[0;32m    619\u001b[0m         \u001b[1;32mif\u001b[0m \u001b[0misinstance\u001b[0m\u001b[1;33m(\u001b[0m\u001b[0mdocs\u001b[0m\u001b[1;33m,\u001b[0m \u001b[0mabc\u001b[0m\u001b[1;33m.\u001b[0m\u001b[0mMapping\u001b[0m\u001b[1;33m)\u001b[0m\u001b[1;33m:\u001b[0m\u001b[1;33m\u001b[0m\u001b[1;33m\u001b[0m\u001b[0m\n\u001b[1;32m--> 620\u001b[1;33m             return self._insert_one(\n\u001b[0m\u001b[0;32m    621\u001b[0m                 \u001b[0mdocs\u001b[0m\u001b[1;33m,\u001b[0m \u001b[0mordered\u001b[0m\u001b[1;33m,\u001b[0m \u001b[0mcheck_keys\u001b[0m\u001b[1;33m,\u001b[0m \u001b[0mmanipulate\u001b[0m\u001b[1;33m,\u001b[0m \u001b[0mwrite_concern\u001b[0m\u001b[1;33m,\u001b[0m \u001b[0mop_id\u001b[0m\u001b[1;33m,\u001b[0m\u001b[1;33m\u001b[0m\u001b[1;33m\u001b[0m\u001b[0m\n\u001b[0;32m    622\u001b[0m                 bypass_doc_val, session)\n",
      "\u001b[1;32m~\\anaconda3\\lib\\site-packages\\pymongo\\collection.py\u001b[0m in \u001b[0;36m_insert_one\u001b[1;34m(self, doc, ordered, check_keys, manipulate, write_concern, op_id, bypass_doc_val, session)\u001b[0m\n\u001b[0;32m    607\u001b[0m             \u001b[0m_check_write_command_response\u001b[0m\u001b[1;33m(\u001b[0m\u001b[0mresult\u001b[0m\u001b[1;33m)\u001b[0m\u001b[1;33m\u001b[0m\u001b[1;33m\u001b[0m\u001b[0m\n\u001b[0;32m    608\u001b[0m \u001b[1;33m\u001b[0m\u001b[0m\n\u001b[1;32m--> 609\u001b[1;33m         self.__database.client._retryable_write(\n\u001b[0m\u001b[0;32m    610\u001b[0m             acknowledged, _insert_command, session)\n\u001b[0;32m    611\u001b[0m \u001b[1;33m\u001b[0m\u001b[0m\n",
      "\u001b[1;32m~\\anaconda3\\lib\\site-packages\\pymongo\\mongo_client.py\u001b[0m in \u001b[0;36m_retryable_write\u001b[1;34m(self, retryable, func, session)\u001b[0m\n\u001b[0;32m   1549\u001b[0m     \u001b[1;32mdef\u001b[0m \u001b[0m_retryable_write\u001b[0m\u001b[1;33m(\u001b[0m\u001b[0mself\u001b[0m\u001b[1;33m,\u001b[0m \u001b[0mretryable\u001b[0m\u001b[1;33m,\u001b[0m \u001b[0mfunc\u001b[0m\u001b[1;33m,\u001b[0m \u001b[0msession\u001b[0m\u001b[1;33m)\u001b[0m\u001b[1;33m:\u001b[0m\u001b[1;33m\u001b[0m\u001b[1;33m\u001b[0m\u001b[0m\n\u001b[0;32m   1550\u001b[0m         \u001b[1;34m\"\"\"Internal retryable write helper.\"\"\"\u001b[0m\u001b[1;33m\u001b[0m\u001b[1;33m\u001b[0m\u001b[0m\n\u001b[1;32m-> 1551\u001b[1;33m         \u001b[1;32mwith\u001b[0m \u001b[0mself\u001b[0m\u001b[1;33m.\u001b[0m\u001b[0m_tmp_session\u001b[0m\u001b[1;33m(\u001b[0m\u001b[0msession\u001b[0m\u001b[1;33m)\u001b[0m \u001b[1;32mas\u001b[0m \u001b[0ms\u001b[0m\u001b[1;33m:\u001b[0m\u001b[1;33m\u001b[0m\u001b[1;33m\u001b[0m\u001b[0m\n\u001b[0m\u001b[0;32m   1552\u001b[0m             \u001b[1;32mreturn\u001b[0m \u001b[0mself\u001b[0m\u001b[1;33m.\u001b[0m\u001b[0m_retry_with_session\u001b[0m\u001b[1;33m(\u001b[0m\u001b[0mretryable\u001b[0m\u001b[1;33m,\u001b[0m \u001b[0mfunc\u001b[0m\u001b[1;33m,\u001b[0m \u001b[0ms\u001b[0m\u001b[1;33m,\u001b[0m \u001b[1;32mNone\u001b[0m\u001b[1;33m)\u001b[0m\u001b[1;33m\u001b[0m\u001b[1;33m\u001b[0m\u001b[0m\n\u001b[0;32m   1553\u001b[0m \u001b[1;33m\u001b[0m\u001b[0m\n",
      "\u001b[1;32m~\\anaconda3\\lib\\contextlib.py\u001b[0m in \u001b[0;36m__enter__\u001b[1;34m(self)\u001b[0m\n\u001b[0;32m    117\u001b[0m         \u001b[1;32mdel\u001b[0m \u001b[0mself\u001b[0m\u001b[1;33m.\u001b[0m\u001b[0margs\u001b[0m\u001b[1;33m,\u001b[0m \u001b[0mself\u001b[0m\u001b[1;33m.\u001b[0m\u001b[0mkwds\u001b[0m\u001b[1;33m,\u001b[0m \u001b[0mself\u001b[0m\u001b[1;33m.\u001b[0m\u001b[0mfunc\u001b[0m\u001b[1;33m\u001b[0m\u001b[1;33m\u001b[0m\u001b[0m\n\u001b[0;32m    118\u001b[0m         \u001b[1;32mtry\u001b[0m\u001b[1;33m:\u001b[0m\u001b[1;33m\u001b[0m\u001b[1;33m\u001b[0m\u001b[0m\n\u001b[1;32m--> 119\u001b[1;33m             \u001b[1;32mreturn\u001b[0m \u001b[0mnext\u001b[0m\u001b[1;33m(\u001b[0m\u001b[0mself\u001b[0m\u001b[1;33m.\u001b[0m\u001b[0mgen\u001b[0m\u001b[1;33m)\u001b[0m\u001b[1;33m\u001b[0m\u001b[1;33m\u001b[0m\u001b[0m\n\u001b[0m\u001b[0;32m    120\u001b[0m         \u001b[1;32mexcept\u001b[0m \u001b[0mStopIteration\u001b[0m\u001b[1;33m:\u001b[0m\u001b[1;33m\u001b[0m\u001b[1;33m\u001b[0m\u001b[0m\n\u001b[0;32m    121\u001b[0m             \u001b[1;32mraise\u001b[0m \u001b[0mRuntimeError\u001b[0m\u001b[1;33m(\u001b[0m\u001b[1;34m\"generator didn't yield\"\u001b[0m\u001b[1;33m)\u001b[0m \u001b[1;32mfrom\u001b[0m \u001b[1;32mNone\u001b[0m\u001b[1;33m\u001b[0m\u001b[1;33m\u001b[0m\u001b[0m\n",
      "\u001b[1;32m~\\anaconda3\\lib\\site-packages\\pymongo\\mongo_client.py\u001b[0m in \u001b[0;36m_tmp_session\u001b[1;34m(self, session, close)\u001b[0m\n\u001b[0;32m   1946\u001b[0m             \u001b[1;32mreturn\u001b[0m\u001b[1;33m\u001b[0m\u001b[1;33m\u001b[0m\u001b[0m\n\u001b[0;32m   1947\u001b[0m \u001b[1;33m\u001b[0m\u001b[0m\n\u001b[1;32m-> 1948\u001b[1;33m         \u001b[0ms\u001b[0m \u001b[1;33m=\u001b[0m \u001b[0mself\u001b[0m\u001b[1;33m.\u001b[0m\u001b[0m_ensure_session\u001b[0m\u001b[1;33m(\u001b[0m\u001b[0msession\u001b[0m\u001b[1;33m)\u001b[0m\u001b[1;33m\u001b[0m\u001b[1;33m\u001b[0m\u001b[0m\n\u001b[0m\u001b[0;32m   1949\u001b[0m         \u001b[1;32mif\u001b[0m \u001b[0ms\u001b[0m\u001b[1;33m:\u001b[0m\u001b[1;33m\u001b[0m\u001b[1;33m\u001b[0m\u001b[0m\n\u001b[0;32m   1950\u001b[0m             \u001b[1;32mtry\u001b[0m\u001b[1;33m:\u001b[0m\u001b[1;33m\u001b[0m\u001b[1;33m\u001b[0m\u001b[0m\n",
      "\u001b[1;32m~\\anaconda3\\lib\\site-packages\\pymongo\\mongo_client.py\u001b[0m in \u001b[0;36m_ensure_session\u001b[1;34m(self, session)\u001b[0m\n\u001b[0;32m   1933\u001b[0m             \u001b[1;31m# Don't make implicit sessions causally consistent. Applications\u001b[0m\u001b[1;33m\u001b[0m\u001b[1;33m\u001b[0m\u001b[0m\n\u001b[0;32m   1934\u001b[0m             \u001b[1;31m# should always opt-in.\u001b[0m\u001b[1;33m\u001b[0m\u001b[1;33m\u001b[0m\u001b[0m\n\u001b[1;32m-> 1935\u001b[1;33m             \u001b[1;32mreturn\u001b[0m \u001b[0mself\u001b[0m\u001b[1;33m.\u001b[0m\u001b[0m__start_session\u001b[0m\u001b[1;33m(\u001b[0m\u001b[1;32mTrue\u001b[0m\u001b[1;33m,\u001b[0m \u001b[0mcausal_consistency\u001b[0m\u001b[1;33m=\u001b[0m\u001b[1;32mFalse\u001b[0m\u001b[1;33m)\u001b[0m\u001b[1;33m\u001b[0m\u001b[1;33m\u001b[0m\u001b[0m\n\u001b[0m\u001b[0;32m   1936\u001b[0m         \u001b[1;32mexcept\u001b[0m \u001b[1;33m(\u001b[0m\u001b[0mConfigurationError\u001b[0m\u001b[1;33m,\u001b[0m \u001b[0mInvalidOperation\u001b[0m\u001b[1;33m)\u001b[0m\u001b[1;33m:\u001b[0m\u001b[1;33m\u001b[0m\u001b[1;33m\u001b[0m\u001b[0m\n\u001b[0;32m   1937\u001b[0m             \u001b[1;31m# Sessions not supported, or multiple users authenticated.\u001b[0m\u001b[1;33m\u001b[0m\u001b[1;33m\u001b[0m\u001b[0m\n",
      "\u001b[1;32m~\\anaconda3\\lib\\site-packages\\pymongo\\mongo_client.py\u001b[0m in \u001b[0;36m__start_session\u001b[1;34m(self, implicit, **kwargs)\u001b[0m\n\u001b[0;32m   1881\u001b[0m \u001b[1;33m\u001b[0m\u001b[0m\n\u001b[0;32m   1882\u001b[0m         \u001b[1;31m# Raises ConfigurationError if sessions are not supported.\u001b[0m\u001b[1;33m\u001b[0m\u001b[1;33m\u001b[0m\u001b[0m\n\u001b[1;32m-> 1883\u001b[1;33m         \u001b[0mserver_session\u001b[0m \u001b[1;33m=\u001b[0m \u001b[0mself\u001b[0m\u001b[1;33m.\u001b[0m\u001b[0m_get_server_session\u001b[0m\u001b[1;33m(\u001b[0m\u001b[1;33m)\u001b[0m\u001b[1;33m\u001b[0m\u001b[1;33m\u001b[0m\u001b[0m\n\u001b[0m\u001b[0;32m   1884\u001b[0m         \u001b[0mopts\u001b[0m \u001b[1;33m=\u001b[0m \u001b[0mclient_session\u001b[0m\u001b[1;33m.\u001b[0m\u001b[0mSessionOptions\u001b[0m\u001b[1;33m(\u001b[0m\u001b[1;33m**\u001b[0m\u001b[0mkwargs\u001b[0m\u001b[1;33m)\u001b[0m\u001b[1;33m\u001b[0m\u001b[1;33m\u001b[0m\u001b[0m\n\u001b[0;32m   1885\u001b[0m         return client_session.ClientSession(\n",
      "\u001b[1;32m~\\anaconda3\\lib\\site-packages\\pymongo\\mongo_client.py\u001b[0m in \u001b[0;36m_get_server_session\u001b[1;34m(self)\u001b[0m\n\u001b[0;32m   1919\u001b[0m     \u001b[1;32mdef\u001b[0m \u001b[0m_get_server_session\u001b[0m\u001b[1;33m(\u001b[0m\u001b[0mself\u001b[0m\u001b[1;33m)\u001b[0m\u001b[1;33m:\u001b[0m\u001b[1;33m\u001b[0m\u001b[1;33m\u001b[0m\u001b[0m\n\u001b[0;32m   1920\u001b[0m         \u001b[1;34m\"\"\"Internal: start or resume a _ServerSession.\"\"\"\u001b[0m\u001b[1;33m\u001b[0m\u001b[1;33m\u001b[0m\u001b[0m\n\u001b[1;32m-> 1921\u001b[1;33m         \u001b[1;32mreturn\u001b[0m \u001b[0mself\u001b[0m\u001b[1;33m.\u001b[0m\u001b[0m_topology\u001b[0m\u001b[1;33m.\u001b[0m\u001b[0mget_server_session\u001b[0m\u001b[1;33m(\u001b[0m\u001b[1;33m)\u001b[0m\u001b[1;33m\u001b[0m\u001b[1;33m\u001b[0m\u001b[0m\n\u001b[0m\u001b[0;32m   1922\u001b[0m \u001b[1;33m\u001b[0m\u001b[0m\n\u001b[0;32m   1923\u001b[0m     \u001b[1;32mdef\u001b[0m \u001b[0m_return_server_session\u001b[0m\u001b[1;33m(\u001b[0m\u001b[0mself\u001b[0m\u001b[1;33m,\u001b[0m \u001b[0mserver_session\u001b[0m\u001b[1;33m,\u001b[0m \u001b[0mlock\u001b[0m\u001b[1;33m)\u001b[0m\u001b[1;33m:\u001b[0m\u001b[1;33m\u001b[0m\u001b[1;33m\u001b[0m\u001b[0m\n",
      "\u001b[1;32m~\\anaconda3\\lib\\site-packages\\pymongo\\topology.py\u001b[0m in \u001b[0;36mget_server_session\u001b[1;34m(self)\u001b[0m\n\u001b[0;32m    518\u001b[0m             \u001b[1;31m# Sessions are always supported in load balanced mode.\u001b[0m\u001b[1;33m\u001b[0m\u001b[1;33m\u001b[0m\u001b[0m\n\u001b[0;32m    519\u001b[0m             \u001b[1;32mif\u001b[0m \u001b[1;32mnot\u001b[0m \u001b[0mself\u001b[0m\u001b[1;33m.\u001b[0m\u001b[0m_settings\u001b[0m\u001b[1;33m.\u001b[0m\u001b[0mload_balanced\u001b[0m\u001b[1;33m:\u001b[0m\u001b[1;33m\u001b[0m\u001b[1;33m\u001b[0m\u001b[0m\n\u001b[1;32m--> 520\u001b[1;33m                 \u001b[0msession_timeout\u001b[0m \u001b[1;33m=\u001b[0m \u001b[0mself\u001b[0m\u001b[1;33m.\u001b[0m\u001b[0m_check_session_support\u001b[0m\u001b[1;33m(\u001b[0m\u001b[1;33m)\u001b[0m\u001b[1;33m\u001b[0m\u001b[1;33m\u001b[0m\u001b[0m\n\u001b[0m\u001b[0;32m    521\u001b[0m             \u001b[1;32melse\u001b[0m\u001b[1;33m:\u001b[0m\u001b[1;33m\u001b[0m\u001b[1;33m\u001b[0m\u001b[0m\n\u001b[0;32m    522\u001b[0m                 \u001b[1;31m# Sessions never time out in load balanced mode.\u001b[0m\u001b[1;33m\u001b[0m\u001b[1;33m\u001b[0m\u001b[0m\n",
      "\u001b[1;32m~\\anaconda3\\lib\\site-packages\\pymongo\\topology.py\u001b[0m in \u001b[0;36m_check_session_support\u001b[1;34m(self)\u001b[0m\n\u001b[0;32m    497\u001b[0m             \u001b[1;32mif\u001b[0m \u001b[0mself\u001b[0m\u001b[1;33m.\u001b[0m\u001b[0m_description\u001b[0m\u001b[1;33m.\u001b[0m\u001b[0mtopology_type\u001b[0m \u001b[1;33m==\u001b[0m \u001b[0mTOPOLOGY_TYPE\u001b[0m\u001b[1;33m.\u001b[0m\u001b[0mSingle\u001b[0m\u001b[1;33m:\u001b[0m\u001b[1;33m\u001b[0m\u001b[1;33m\u001b[0m\u001b[0m\n\u001b[0;32m    498\u001b[0m                 \u001b[1;32mif\u001b[0m \u001b[1;32mnot\u001b[0m \u001b[0mself\u001b[0m\u001b[1;33m.\u001b[0m\u001b[0m_description\u001b[0m\u001b[1;33m.\u001b[0m\u001b[0mhas_known_servers\u001b[0m\u001b[1;33m:\u001b[0m\u001b[1;33m\u001b[0m\u001b[1;33m\u001b[0m\u001b[0m\n\u001b[1;32m--> 499\u001b[1;33m                     self._select_servers_loop(\n\u001b[0m\u001b[0;32m    500\u001b[0m                         \u001b[0many_server_selector\u001b[0m\u001b[1;33m,\u001b[0m\u001b[1;33m\u001b[0m\u001b[1;33m\u001b[0m\u001b[0m\n\u001b[0;32m    501\u001b[0m                         \u001b[0mself\u001b[0m\u001b[1;33m.\u001b[0m\u001b[0m_settings\u001b[0m\u001b[1;33m.\u001b[0m\u001b[0mserver_selection_timeout\u001b[0m\u001b[1;33m,\u001b[0m\u001b[1;33m\u001b[0m\u001b[1;33m\u001b[0m\u001b[0m\n",
      "\u001b[1;32m~\\anaconda3\\lib\\site-packages\\pymongo\\topology.py\u001b[0m in \u001b[0;36m_select_servers_loop\u001b[1;34m(self, selector, timeout, address)\u001b[0m\n\u001b[0;32m    216\u001b[0m             \u001b[1;31m# No suitable servers.\u001b[0m\u001b[1;33m\u001b[0m\u001b[1;33m\u001b[0m\u001b[0m\n\u001b[0;32m    217\u001b[0m             \u001b[1;32mif\u001b[0m \u001b[0mtimeout\u001b[0m \u001b[1;33m==\u001b[0m \u001b[1;36m0\u001b[0m \u001b[1;32mor\u001b[0m \u001b[0mnow\u001b[0m \u001b[1;33m>\u001b[0m \u001b[0mend_time\u001b[0m\u001b[1;33m:\u001b[0m\u001b[1;33m\u001b[0m\u001b[1;33m\u001b[0m\u001b[0m\n\u001b[1;32m--> 218\u001b[1;33m                 raise ServerSelectionTimeoutError(\n\u001b[0m\u001b[0;32m    219\u001b[0m                     \u001b[1;34m\"%s, Timeout: %ss, Topology Description: %r\"\u001b[0m \u001b[1;33m%\u001b[0m\u001b[1;33m\u001b[0m\u001b[1;33m\u001b[0m\u001b[0m\n\u001b[0;32m    220\u001b[0m                     (self._error_message(selector), timeout, self.description))\n",
      "\u001b[1;31mServerSelectionTimeoutError\u001b[0m: 10.3.20.255:27017: timed out, Timeout: 30s, Topology Description: <TopologyDescription id: 64022e332944de1b16e08a76, topology_type: Single, servers: [<ServerDescription ('10.3.20.255', 27017) server_type: Unknown, rtt: None, error=NetworkTimeout('10.3.20.255:27017: timed out')>]>"
     ]
    }
   ],
   "source": [
    "friends.insert_one({'name':'Person-1','year':2020})\n",
    "friends.insert_one({'name':'Person-2','year':2021})\n",
    "friends.insert_one({'name':'Person-3','year':2022})"
   ]
  },
  {
   "cell_type": "code",
   "execution_count": null,
   "id": "65d44327",
   "metadata": {},
   "outputs": [],
   "source": [
    "friends.update_one({'name':'Person-1'}, {'$set' : {'year' : 2019}})"
   ]
  },
  {
   "cell_type": "code",
   "execution_count": null,
   "id": "7de56e87",
   "metadata": {},
   "outputs": [],
   "source": [
    "friends.find_one({'name':'Person-1'})"
   ]
  },
  {
   "cell_type": "markdown",
   "id": "c7c1924d",
   "metadata": {},
   "source": [
    "## Exception Handling"
   ]
  },
  {
   "cell_type": "code",
   "execution_count": 34,
   "id": "1a712287",
   "metadata": {},
   "outputs": [
    {
     "name": "stdout",
     "output_type": "stream",
     "text": [
      "division by zero\n",
      "Inverse of  1 is 1.0\n",
      "Inverse of  2 is 0.5\n"
     ]
    }
   ],
   "source": [
    "import math\n",
    "\n",
    "def invert(x):\n",
    "    ans = 0\n",
    "    try:\n",
    "        ans = 1/x\n",
    "    except Exception as err:\n",
    "        print(err)\n",
    "    else:\n",
    "        print('Inverse of ', x, 'is', ans)\n",
    "            \n",
    "\n",
    "invert(0)\n",
    "invert(1)\n",
    "invert(2)"
   ]
  },
  {
   "cell_type": "code",
   "execution_count": 35,
   "id": "0945f419",
   "metadata": {},
   "outputs": [
    {
     "name": "stdout",
     "output_type": "stream",
     "text": [
      "1 / 1 = 1.0\n",
      "1 / 2 = 0.5\n",
      "1 / 0 = Undefined\n",
      "1 / abc = Undefined\n",
      "1 / [1, 4, 6] = Undefined\n",
      "1 / 5 = 0.2\n"
     ]
    }
   ],
   "source": [
    "def invert(x):\n",
    "    ans = 0\n",
    "    try:\n",
    "        ans = 1/x\n",
    "    except Exception as err:\n",
    "        pass\n",
    "    else:\n",
    "        return ans\n",
    "    \n",
    "li = [1,2,0,\"abc\",[1,4,6],5]\n",
    "for data in li:\n",
    "    res = invert(data)\n",
    "    if res != None:\n",
    "        print('1 /',data,'=',res)\n",
    "    else:\n",
    "        print('1 /',data,'=','Undefined')"
   ]
  },
  {
   "cell_type": "markdown",
   "id": "41c73fbb",
   "metadata": {},
   "source": [
    "## LIBRARIES"
   ]
  },
  {
   "cell_type": "markdown",
   "id": "b2a2d88c",
   "metadata": {},
   "source": [
    "### NUMPY"
   ]
  },
  {
   "cell_type": "code",
   "execution_count": 36,
   "id": "162b6999",
   "metadata": {},
   "outputs": [
    {
     "name": "stdout",
     "output_type": "stream",
     "text": [
      "Numpy version: 1.21.5\n",
      "\n",
      "Random Tensor:\n",
      "[[0.24989762 2.95190001 1.40375777 7.7289118 ]\n",
      " [3.24793467 0.08473318 4.37884827 8.89456754]\n",
      " [5.10479573 4.83476954 0.20746629 0.07157777]]\n",
      "\n",
      "Random Integer Tensor:\n",
      "[[9 9 7 3]\n",
      " [8 2 0 2]\n",
      " [6 6 9 0]]\n",
      "\n"
     ]
    }
   ],
   "source": [
    "import numpy as np\n",
    "print(f'Numpy version: {np.__version__}')\n",
    "print()\n",
    "print(f'Random Tensor:')\n",
    "data = 10 * np.random.random((3,4))\n",
    "print(data)\n",
    "print()\n",
    "print(f'Random Integer Tensor:')\n",
    "data = np.random.randint(10, size=(3,4))\n",
    "print(data)\n",
    "print()"
   ]
  },
  {
   "cell_type": "markdown",
   "id": "4666f950",
   "metadata": {},
   "source": [
    "### SLICING"
   ]
  },
  {
   "cell_type": "code",
   "execution_count": 37,
   "id": "6a71cc08",
   "metadata": {},
   "outputs": [
    {
     "name": "stdout",
     "output_type": "stream",
     "text": [
      "Random Integer Tensor:\n",
      "[[9 9 7 3]\n",
      " [8 2 0 2]\n",
      " [6 6 9 0]]\n",
      "\n",
      "Print 2nd row:\n",
      "[8 2 0 2]\n",
      "\n",
      "Print 2nd row, 3rd column:\n",
      "0\n"
     ]
    }
   ],
   "source": [
    "print(f'Random Integer Tensor:')\n",
    "print(data)\n",
    "print()\n",
    "print(f'Print 2nd row:')\n",
    "print(data[1])\n",
    "print()\n",
    "print(f'Print 2nd row, 3rd column:')\n",
    "print(data[1,2])"
   ]
  },
  {
   "cell_type": "markdown",
   "id": "f24f9ac6",
   "metadata": {},
   "source": [
    "## BASIC TENSORS"
   ]
  },
  {
   "cell_type": "code",
   "execution_count": 38,
   "id": "9752e80a",
   "metadata": {},
   "outputs": [
    {
     "name": "stdout",
     "output_type": "stream",
     "text": [
      "Zero Tensor:\n",
      "[[0. 0. 0. 0.]\n",
      " [0. 0. 0. 0.]\n",
      " [0. 0. 0. 0.]]\n",
      "One Tensor:\n",
      "[[1. 1. 1. 1.]\n",
      " [1. 1. 1. 1.]\n",
      " [1. 1. 1. 1.]]\n",
      "Identity Matrix:\n",
      "[[1. 0. 0.]\n",
      " [0. 1. 0.]\n",
      " [0. 0. 1.]]\n"
     ]
    }
   ],
   "source": [
    "print(f'Zero Tensor:')\n",
    "print(np.zeros((3,4)))\n",
    "print(f'One Tensor:')\n",
    "print(np.ones((3,4)))\n",
    "print(f'Identity Matrix:')\n",
    "print(np.eye(3))"
   ]
  },
  {
   "cell_type": "markdown",
   "id": "c04e800e",
   "metadata": {},
   "source": [
    "### OTHER INBUILT LIBRARIES"
   ]
  },
  {
   "cell_type": "code",
   "execution_count": 39,
   "id": "968c389c",
   "metadata": {},
   "outputs": [
    {
     "name": "stdout",
     "output_type": "stream",
     "text": [
      "[[1 2 3]\n",
      " [4 5 6]\n",
      " [7 8 9]]\n",
      "\n",
      "The Square of the Matrix:\n",
      "[[ 1  4  9]\n",
      " [16 25 36]\n",
      " [49 64 81]]\n",
      "\n",
      "The Square Root of the Matrix:\n",
      "[[1.         1.41421356 1.73205081]\n",
      " [2.         2.23606798 2.44948974]\n",
      " [2.64575131 2.82842712 3.        ]]\n",
      "\n",
      "The Transpose of the Matrix:\n",
      "[[1 4 7]\n",
      " [2 5 8]\n",
      " [3 6 9]]\n",
      "\n"
     ]
    }
   ],
   "source": [
    "data = np.matrix([[1,2,3],[4,5,6],[7,8,9]])\n",
    "print(data)\n",
    "print()\n",
    "print(f'The Square of the Matrix:\\n{np.square(data)}')\n",
    "print()\n",
    "print(f'The Square Root of the Matrix:\\n{np.sqrt(data)}')\n",
    "print()\n",
    "print(f'The Transpose of the Matrix:\\n{data.T}')\n",
    "print()"
   ]
  },
  {
   "cell_type": "markdown",
   "id": "7c9296d1",
   "metadata": {},
   "source": [
    "## EVALUATION"
   ]
  },
  {
   "cell_type": "markdown",
   "id": "8db1ad31",
   "metadata": {},
   "source": [
    "### FOR LOOP"
   ]
  },
  {
   "cell_type": "code",
   "execution_count": 1,
   "id": "12ed374b",
   "metadata": {},
   "outputs": [
    {
     "name": "stdout",
     "output_type": "stream",
     "text": [
      "The Square of 1 is 1\n",
      "The Square of 2 is 4\n",
      "The Square of 3 is 9\n",
      "The Square of 4 is 16\n",
      "The Square of 5 is 25\n",
      "The Square of 6 is 36\n",
      "The Square of 7 is 49\n",
      "The Square of 8 is 64\n",
      "The Square of 9 is 81\n",
      "\n",
      "The square of 1 is 1\n",
      "The square of 2 is 4\n",
      "The square of 3 is 9\n",
      "The square of 4 is 16\n",
      "0\n",
      "2\n",
      "4\n",
      "6\n",
      "8\n"
     ]
    }
   ],
   "source": [
    "li = [1,2,3,4,5,6,7,8,9]\n",
    "for data in li:\n",
    "    print(f'The Square of {data} is {data**2}')\n",
    "print()\n",
    "for i in range(1,5):\n",
    "    print(f'The square of {i} is {i**2}')\n",
    "\n",
    "start = 0\n",
    "End = 10\n",
    "step = 2\n",
    "for i in range(start, End, step):\n",
    "    print(i)"
   ]
  },
  {
   "cell_type": "markdown",
   "id": "59acd528",
   "metadata": {},
   "source": [
    "## PYGAMES"
   ]
  },
  {
   "cell_type": "code",
   "execution_count": 1,
   "id": "91438bb1",
   "metadata": {},
   "outputs": [
    {
     "name": "stdout",
     "output_type": "stream",
     "text": [
      "pygame 2.1.2 (SDL 2.0.18, Python 3.9.13)\n",
      "Hello from the pygame community. https://www.pygame.org/contribute.html\n"
     ]
    },
    {
     "ename": "error",
     "evalue": "video system not initialized",
     "output_type": "error",
     "traceback": [
      "\u001b[1;31m---------------------------------------------------------------------------\u001b[0m",
      "\u001b[1;31merror\u001b[0m                                     Traceback (most recent call last)",
      "\u001b[1;32m~\\AppData\\Local\\Temp\\ipykernel_14508\\895828138.py\u001b[0m in \u001b[0;36m<module>\u001b[1;34m\u001b[0m\n\u001b[0;32m     12\u001b[0m \u001b[0mpygame\u001b[0m\u001b[1;33m.\u001b[0m\u001b[0mdisplay\u001b[0m\u001b[1;33m.\u001b[0m\u001b[0mflip\u001b[0m\u001b[1;33m(\u001b[0m\u001b[1;33m)\u001b[0m\u001b[1;33m\u001b[0m\u001b[1;33m\u001b[0m\u001b[0m\n\u001b[0;32m     13\u001b[0m \u001b[1;32mwhile\u001b[0m \u001b[1;32mTrue\u001b[0m\u001b[1;33m:\u001b[0m\u001b[1;33m\u001b[0m\u001b[1;33m\u001b[0m\u001b[0m\n\u001b[1;32m---> 14\u001b[1;33m     \u001b[1;32mfor\u001b[0m \u001b[0mevent\u001b[0m \u001b[1;32min\u001b[0m \u001b[0mpygame\u001b[0m\u001b[1;33m.\u001b[0m\u001b[0mevent\u001b[0m\u001b[1;33m.\u001b[0m\u001b[0mget\u001b[0m\u001b[1;33m(\u001b[0m\u001b[1;33m)\u001b[0m\u001b[1;33m:\u001b[0m\u001b[1;33m\u001b[0m\u001b[1;33m\u001b[0m\u001b[0m\n\u001b[0m\u001b[0;32m     15\u001b[0m         \u001b[1;32mif\u001b[0m \u001b[0mevent\u001b[0m\u001b[1;33m.\u001b[0m\u001b[0mtype\u001b[0m \u001b[1;33m==\u001b[0m \u001b[0mpygame\u001b[0m\u001b[1;33m.\u001b[0m\u001b[0mQUIT\u001b[0m\u001b[1;33m:\u001b[0m\u001b[1;33m\u001b[0m\u001b[1;33m\u001b[0m\u001b[0m\n\u001b[0;32m     16\u001b[0m             \u001b[0mpygame\u001b[0m\u001b[1;33m.\u001b[0m\u001b[0mquit\u001b[0m\u001b[1;33m(\u001b[0m\u001b[1;33m)\u001b[0m\u001b[1;33m\u001b[0m\u001b[1;33m\u001b[0m\u001b[0m\n",
      "\u001b[1;31merror\u001b[0m: video system not initialized"
     ]
    }
   ],
   "source": [
    "import pygame       \n",
    "import sys\n",
    "pygame.init()\n",
    "pygame.display.set_caption(\"20051816\")\n",
    "screen = pygame.display.set_mode((640,640))\n",
    "for i in range(8):\n",
    "    for j in range(8):\n",
    "        if (i+j)%2 == 0:\n",
    "            pygame.draw.rect(screen, (255,255,255), (i*80,j*80,80,80))\n",
    "        else:\n",
    "            pygame.draw.rect(screen, (128,128,128), (i*80,j*80,80,80))\n",
    "pygame.display.flip()\n",
    "while True:\n",
    "    for event in pygame.event.get():\n",
    "        if event.type == pygame.QUIT:\n",
    "            pygame.quit()\n",
    "            exit()"
   ]
  },
  {
   "cell_type": "code",
   "execution_count": null,
   "id": "e022d632",
   "metadata": {},
   "outputs": [],
   "source": [
    "import pygame       \n",
    "import sys\n",
    "pygame.init()\n",
    "pygame.display.set_caption(\"20051816\")\n",
    "screen = pygame.display.set_mode((600,600))\n",
    "screen.fill((128,128,128))\n",
    "for i in range(3):\n",
    "    for j in range(3):\n",
    "        pygame.draw.line(screen, (255,255,255), (i*200,j*200), (i*200+200,j*200))\n",
    "        pygame.draw.line(screen, (255,255,255), (i*200,j*200), (i*200,j*200+200))\n",
    "        if (i+j)%2 == 0:\n",
    "            pygame.draw.circle(screen, (255,255,255), (i*200+100,j*200+100), 50)\n",
    "        else:\n",
    "            pygame.draw.rect(screen, (255,255,255), (i*200+50,j*200+50,100,100), 5)\n",
    "    pygame.draw.line(screen, (255,0,0), (0,0), (600,600), 5)\n",
    "\n",
    "pygame.display.flip()\n",
    "while True:\n",
    "    for event in pygame.event.get():\n",
    "        if event.type == pygame.QUIT:\n",
    "            pygame.quit()\n",
    "            exit()"
   ]
  },
  {
   "cell_type": "code",
   "execution_count": null,
   "id": "2346a24f",
   "metadata": {},
   "outputs": [],
   "source": [
    "import pygame \n",
    "import random\n",
    "\n",
    "pygame.init()\n",
    "pygame.display.set_caption(\"20051816\")\n",
    "screen = pygame.display.set_mode((600,600))\n",
    "screen.fill((128,128,128))\n",
    "for i in range(100):\n",
    "    pygame.draw.circle(screen, (random.randint(0,255),random.randint(0,255),random.randint(0,255)), (random.randint(0,600),random.randint(0,600)), random.randint(0,100))\n",
    "pygame.display.flip()\n",
    "while True:\n",
    "    for event in pygame.event.get():\n",
    "        if event.type == pygame.QUIT:\n",
    "            pygame.quit()\n",
    "            exit()"
   ]
  },
  {
   "cell_type": "code",
   "execution_count": 1,
   "id": "436982a1",
   "metadata": {},
   "outputs": [
    {
     "ename": "IndentationError",
     "evalue": "expected an indented block (1701623576.py, line 20)",
     "output_type": "error",
     "traceback": [
      "\u001b[1;36m  File \u001b[1;32m\"C:\\Users\\KIIT\\AppData\\Local\\Temp\\ipykernel_13300\\1701623576.py\"\u001b[1;36m, line \u001b[1;32m20\u001b[0m\n\u001b[1;33m    pygame.display.flip()\u001b[0m\n\u001b[1;37m    ^\u001b[0m\n\u001b[1;31mIndentationError\u001b[0m\u001b[1;31m:\u001b[0m expected an indented block\n"
     ]
    }
   ],
   "source": [
    "import pygame \n",
    "import random\n",
    "import math\n",
    "pygame.init()\n",
    "pygame.display.set_caption(\"20051816\")\n",
    "screen = pygame.display.set_mode((600,600))\n",
    "screen.fill((128,128,128))\n",
    "   # fractal\n",
    "def draw_circle(x,y,r):\n",
    "    if r > 1:\n",
    "        pygame.draw.circle(screen, (random.randint(0,255),random.randint(0,255),random.randint(0,255)), (x,y), r)\n",
    "        draw_circle(x+r,y,r/2)\n",
    "        draw_circle(x-r,y,r/2)\n",
    "        draw_circle(x,y+r,r/2)\n",
    "        draw_circle(x,y-r,r/2)\n",
    "draw_circle(300,300,300)\n",
    "\n",
    "def primeSpiral():\n",
    "    \n",
    "pygame.display.flip()\n",
    "while True:\n",
    "    for event in pygame.event.get():\n",
    "        if event.type == pygame.QUIT:\n",
    "            pygame.quit()\n",
    "            exit()"
   ]
  },
  {
   "cell_type": "code",
   "execution_count": 2,
   "id": "2c35e893",
   "metadata": {},
   "outputs": [
    {
     "name": "stdout",
     "output_type": "stream",
     "text": [
      "pygame 2.1.2 (SDL 2.0.18, Python 3.9.13)\n",
      "Hello from the pygame community. https://www.pygame.org/contribute.html\n"
     ]
    },
    {
     "ename": "error",
     "evalue": "video system not initialized",
     "output_type": "error",
     "traceback": [
      "\u001b[1;31m---------------------------------------------------------------------------\u001b[0m",
      "\u001b[1;31merror\u001b[0m                                     Traceback (most recent call last)",
      "\u001b[1;32m~\\AppData\\Local\\Temp\\ipykernel_13300\\1789091436.py\u001b[0m in \u001b[0;36m<module>\u001b[1;34m\u001b[0m\n\u001b[0;32m     25\u001b[0m \u001b[1;33m\u001b[0m\u001b[0m\n\u001b[0;32m     26\u001b[0m \u001b[1;32mwhile\u001b[0m \u001b[1;32mTrue\u001b[0m\u001b[1;33m:\u001b[0m\u001b[1;33m\u001b[0m\u001b[1;33m\u001b[0m\u001b[0m\n\u001b[1;32m---> 27\u001b[1;33m     \u001b[1;32mfor\u001b[0m \u001b[0mevent\u001b[0m \u001b[1;32min\u001b[0m \u001b[0mpygame\u001b[0m\u001b[1;33m.\u001b[0m\u001b[0mevent\u001b[0m\u001b[1;33m.\u001b[0m\u001b[0mget\u001b[0m\u001b[1;33m(\u001b[0m\u001b[1;33m)\u001b[0m\u001b[1;33m:\u001b[0m\u001b[1;33m\u001b[0m\u001b[1;33m\u001b[0m\u001b[0m\n\u001b[0m\u001b[0;32m     28\u001b[0m         \u001b[1;32mif\u001b[0m \u001b[0mevent\u001b[0m\u001b[1;33m.\u001b[0m\u001b[0mtype\u001b[0m \u001b[1;33m==\u001b[0m \u001b[0mpygame\u001b[0m\u001b[1;33m.\u001b[0m\u001b[0mQUIT\u001b[0m\u001b[1;33m:\u001b[0m\u001b[1;33m\u001b[0m\u001b[1;33m\u001b[0m\u001b[0m\n\u001b[0;32m     29\u001b[0m             \u001b[0mpygame\u001b[0m\u001b[1;33m.\u001b[0m\u001b[0mquit\u001b[0m\u001b[1;33m(\u001b[0m\u001b[1;33m)\u001b[0m\u001b[1;33m\u001b[0m\u001b[1;33m\u001b[0m\u001b[0m\n",
      "\u001b[1;31merror\u001b[0m: video system not initialized"
     ]
    }
   ],
   "source": [
    "import pygame \n",
    "import random\n",
    "import math\n",
    "pygame.init()\n",
    "pygame.display.set_caption(\"20051816\")   \n",
    "screen = pygame.display.set_mode((600,600))\n",
    "screen.fill((128,128,128))\n",
    "# zoom in on screen permisson\n",
    "\n",
    "    \n",
    "def mandelbrot(c):\n",
    "    z = c\n",
    "    for i in range(100):\n",
    "        if abs(z) > 2:\n",
    "            return i\n",
    "        z = z*z + c\n",
    "    return 100\n",
    "for i in range(600):\n",
    "    for j in range(600):\n",
    "        c = complex(-2 + 4*i/600, -2 + 4*j/600)\n",
    "        n = mandelbrot(c)\n",
    "        if n < 100:\n",
    "            pygame.draw.rect(screen, (255*n/100,255*n/100,255*n/100), (i,j,1,1))\n",
    "pygame.display.flip()\n",
    "\n",
    "while True:\n",
    "    for event in pygame.event.get():\n",
    "        if event.type == pygame.QUIT:\n",
    "            pygame.quit()\n",
    "            exit()"
   ]
  },
  {
   "cell_type": "markdown",
   "id": "1bcda9cf",
   "metadata": {},
   "source": [
    "## PyPlot"
   ]
  },
  {
   "cell_type": "code",
   "execution_count": 1,
   "id": "6ac077f8",
   "metadata": {},
   "outputs": [
    {
     "data": {
      "text/plain": [
       "<matplotlib.collections.PathCollection at 0x19e7776f6a0>"
      ]
     },
     "execution_count": 1,
     "metadata": {},
     "output_type": "execute_result"
    },
    {
     "data": {
      "image/png": "[encoded data removed]",
      "text/plain": [
       "<Figure size 640x480 with 1 Axes>"
      ]
     },
     "metadata": {},
     "output_type": "display_data"
    }
   ],
   "source": [
    "import numpy as np\n",
    "import matplotlib.pyplot as plt\n",
    "\n",
    "x = np.random.rand(20)\n",
    "y = np.random.rand(20)\n",
    "\n",
    "plt.scatter(x,y)"
   ]
  },
  {
   "cell_type": "code",
   "execution_count": 2,
   "id": "d81ee778",
   "metadata": {},
   "outputs": [
    {
     "data": {
      "image/png": "[encoded data removed]",
      "text/plain": [
       "<Figure size 640x480 with 1 Axes>"
      ]
     },
     "metadata": {},
     "output_type": "display_data"
    }
   ],
   "source": [
    "x = np.arange(0,2,0.1)\n",
    "y = np.log(1+2*x)\n",
    "plt.plot(x,y, label = 'log')\n",
    "y1 = x ** 2\n",
    "plt.plot(x, y1, c='g', ls = '--', lw = 2, marker = 's', mfc = 'r', label = 'power')\n",
    "plt.title('some function')\n",
    "plt.xlabel('x')\n",
    "plt.ylabel('f(x)')\n",
    "plt.legend()\n",
    "plt.show()"
   ]
  },
  {
   "cell_type": "markdown",
   "id": "a2c19244",
   "metadata": {},
   "source": [
    "## COMPREHENSION"
   ]
  },
  {
   "cell_type": "code",
   "execution_count": 3,
   "id": "4c6a6ea7",
   "metadata": {},
   "outputs": [
    {
     "name": "stdout",
     "output_type": "stream",
     "text": [
      "[1, 4, 9, 16, 25, 36, 49, 64, 81, 100]\n"
     ]
    }
   ],
   "source": [
    "square1 = []\n",
    "for num in range (1,11):\n",
    "    square1.append(num**2)\n",
    "print(square1)"
   ]
  },
  {
   "cell_type": "code",
   "execution_count": 4,
   "id": "cdf1a922",
   "metadata": {},
   "outputs": [
    {
     "name": "stdout",
     "output_type": "stream",
     "text": [
      "[1, 4, 9, 16, 25, 36, 49, 64, 81, 100]\n"
     ]
    },
    {
     "data": {
      "text/plain": [
       "list"
      ]
     },
     "execution_count": 4,
     "metadata": {},
     "output_type": "execute_result"
    }
   ],
   "source": [
    "square2 = [num**2 for num in range(1,11)]\n",
    "print(square2)\n",
    "type(square2)"
   ]
  },
  {
   "cell_type": "code",
   "execution_count": 5,
   "id": "dbe666e9",
   "metadata": {},
   "outputs": [
    {
     "name": "stdout",
     "output_type": "stream",
     "text": [
      "{64, 1, 4, 36, 100, 9, 16, 49, 81, 25}\n"
     ]
    },
    {
     "data": {
      "text/plain": [
       "set"
      ]
     },
     "execution_count": 5,
     "metadata": {},
     "output_type": "execute_result"
    }
   ],
   "source": [
    "square3 = {num**2 for num in range(1,11)}\n",
    "print(square3)\n",
    "type(square3)"
   ]
  },
  {
   "cell_type": "code",
   "execution_count": 6,
   "id": "b8d4329a",
   "metadata": {},
   "outputs": [
    {
     "name": "stdout",
     "output_type": "stream",
     "text": [
      "{1: 1, 2: 4, 3: 9, 4: 16, 5: 25, 6: 36, 7: 49, 8: 64, 9: 81, 10: 100}\n"
     ]
    },
    {
     "data": {
      "text/plain": [
       "dict"
      ]
     },
     "execution_count": 6,
     "metadata": {},
     "output_type": "execute_result"
    }
   ],
   "source": [
    "square4 = {num:num**2 for num in range(1,11)}\n",
    "print(square4)\n",
    "type(square4)"
   ]
  },
  {
   "cell_type": "code",
   "execution_count": 7,
   "id": "3346a3a2",
   "metadata": {},
   "outputs": [
    {
     "name": "stdout",
     "output_type": "stream",
     "text": [
      "[(0, 0), (1, 1), (2, 2)]\n",
      "<class 'list'>\n",
      "<class 'tuple'>\n"
     ]
    }
   ],
   "source": [
    "coord = [(x,x) for x in range(3)]\n",
    "print(coord)\n",
    "print(type(coord))\n",
    "print(type(coord[0]))"
   ]
  },
  {
   "cell_type": "code",
   "execution_count": 8,
   "id": "f93f7201",
   "metadata": {},
   "outputs": [
    {
     "name": "stdout",
     "output_type": "stream",
     "text": [
      "[(0, 0), (0, 1), (0, 2), (1, 0), (1, 1), (1, 2), (2, 0), (2, 1), (2, 2)]\n",
      "<class 'list'>\n"
     ]
    }
   ],
   "source": [
    "cord = [(x,y) for x in range(3) for y in range(3)]\n",
    "print(cord)\n",
    "print(type(cord))"
   ]
  },
  {
   "cell_type": "code",
   "execution_count": 9,
   "id": "c8e6a08c",
   "metadata": {},
   "outputs": [
    {
     "name": "stdout",
     "output_type": "stream",
     "text": [
      "[(0, 1), (0, 2), (1, 0), (1, 2), (2, 0), (2, 1)]\n",
      "<class 'list'>\n"
     ]
    }
   ],
   "source": [
    "cord = [(x,y) for x in range(3) for y in range(3)\n",
    "        if x != y]\n",
    "print(cord)\n",
    "print(type(cord))"
   ]
  },
  {
   "cell_type": "code",
   "execution_count": 10,
   "id": "faff9cb6",
   "metadata": {},
   "outputs": [
    {
     "name": "stdout",
     "output_type": "stream",
     "text": [
      "Enter your name: Abhishek Shah\n"
     ]
    },
    {
     "data": {
      "text/plain": [
       "['A', 'b', 'h', 'i', 's', 'h', 'e', 'k', ' ', 'S', 'h', 'a', 'h']"
      ]
     },
     "execution_count": 10,
     "metadata": {},
     "output_type": "execute_result"
    }
   ],
   "source": [
    "name = input(\"Enter your name: \") \n",
    "[c for c in name]"
   ]
  },
  {
   "cell_type": "code",
   "execution_count": 11,
   "id": "3c618e43",
   "metadata": {},
   "outputs": [
    {
     "data": {
      "text/plain": [
       "'Abhshk Shh'"
      ]
     },
     "execution_count": 11,
     "metadata": {},
     "output_type": "execute_result"
    }
   ],
   "source": [
    "''.join([c for c in name if c not in 'aeiou'])"
   ]
  },
  {
   "cell_type": "code",
   "execution_count": 12,
   "id": "0c7b65d3",
   "metadata": {},
   "outputs": [
    {
     "name": "stdout",
     "output_type": "stream",
     "text": [
      "{'apple': 1.2, 'banana': 3.3, 'orange': 0.8, 'pear': 2.1, 'grape': 4.7}\n",
      "Price of grape is : 4.7\n"
     ]
    }
   ],
   "source": [
    "items = ['apple', 'banana', 'orange', 'pear', 'grape']\n",
    "prices = [1.2, 3.3, 0.8, 2.1, 4.7]\n",
    "menu = {key:value for key, value in zip(items, prices)}\n",
    "print(menu)\n",
    "print(f'Price of grape is : {menu[\"grape\"]}')"
   ]
  },
  {
   "cell_type": "code",
   "execution_count": 13,
   "id": "8f350819",
   "metadata": {},
   "outputs": [
    {
     "name": "stdout",
     "output_type": "stream",
     "text": [
      "[('apple', 1.2), ('banana', 3.3), ('orange', 0.8), ('pear', 2.1), ('grape', 4.7)]\n"
     ]
    }
   ],
   "source": [
    "print(list(zip(items, prices)))"
   ]
  },
  {
   "cell_type": "code",
   "execution_count": 14,
   "id": "840b5b7d",
   "metadata": {},
   "outputs": [
    {
     "name": "stdout",
     "output_type": "stream",
     "text": [
      "{1.2: 'apple', 3.3: 'banana', 0.8: 'orange', 2.1: 'pear', 4.7: 'grape'}\n",
      "{1.2: 'apple', 3.3: 'banana', 0.8: 'orange', 2.1: 'pear', 4.7: 'grape'}\n"
     ]
    }
   ],
   "source": [
    "revMenu = {key:val for key, val in zip(prices, items)}\n",
    "print(revMenu)\n",
    "print({val:key for key, val in menu.items()})"
   ]
  },
  {
   "cell_type": "code",
   "execution_count": 15,
   "id": "31ac6b28",
   "metadata": {},
   "outputs": [
    {
     "name": "stdout",
     "output_type": "stream",
     "text": [
      "[(1, 2, 3), (4, 5, 6), (7, 8, 9), (10, 11, 12)]\n",
      "[(1, 4, 7, 10), (2, 5, 8, 11), (3, 6, 9, 12)]\n",
      "* is used for unpacking the list\n"
     ]
    }
   ],
   "source": [
    "m = [(1,2,3), (4,5,6), (7,8,9), (10,11,12)]\n",
    "print(m)\n",
    "print(list(zip(*m)))\n",
    "print(f'* is used for unpacking the list')"
   ]
  },
  {
   "cell_type": "code",
   "execution_count": 16,
   "id": "6b68fab1",
   "metadata": {},
   "outputs": [
    {
     "name": "stdout",
     "output_type": "stream",
     "text": [
      "Error\n",
      "7\n"
     ]
    }
   ],
   "source": [
    "def add(a,b): return a+b\n",
    "try: print(add([3,4]))\n",
    "except: print('Error')\n",
    "print(add(*[3,4]))"
   ]
  },
  {
   "cell_type": "code",
   "execution_count": null,
   "id": "a83ad3c6",
   "metadata": {},
   "outputs": [],
   "source": []
  }
 ],
 "metadata": {
  "kernelspec": {
   "display_name": "Python 3 (ipykernel)",
   "language": "python",
   "name": "python3"
  },
  "language_info": {
   "codemirror_mode": {
    "name": "ipython",
    "version": 3
   },
   "file_extension": ".py",
   "mimetype": "text/x-python",
   "name": "python",
   "nbconvert_exporter": "python",
   "pygments_lexer": "ipython3",
   "version": "3.9.13"
  }
 },
 "nbformat": 4,
 "nbformat_minor": 5
}
